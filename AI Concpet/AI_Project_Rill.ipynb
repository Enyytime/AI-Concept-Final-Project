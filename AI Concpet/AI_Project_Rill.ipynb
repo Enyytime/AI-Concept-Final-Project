{
 "cells": [
  {
   "cell_type": "code",
   "execution_count": 5,
   "metadata": {},
   "outputs": [
    {
     "name": "stdout",
     "output_type": "stream",
     "text": [
      "Total number of pubs : 35576\n",
      "Total number of pubs in Manchester: 302\n"
     ]
    }
   ],
   "source": [
    "import pandas as pd\n",
    "import requests\n",
    "import folium\n",
    "import networkx as nx\n",
    "import random\n",
    "import math\n",
    "import time\n",
    "from concurrent.futures import ThreadPoolExecutor\n",
    "\n",
    "# Load the data\n",
    "df = pd.read_csv('D:/Code/Coding Stuff/2nd Year/AI Concpet/open_pubs.csv')\n",
    "\n",
    "# Clean data\n",
    "df['latitude'] = pd.to_numeric(df['latitude'], errors='coerce')\n",
    "df['longitude'] = pd.to_numeric(df['longitude'], errors='coerce')\n",
    "df = df.dropna(subset=['latitude', 'longitude'])\n",
    "df = df.drop_duplicates(subset=['name'], keep='last')\n",
    "\n",
    "# Choose a city\n",
    "chosen_city = \"Manchester\"\n",
    "df_chosen_city = df[df['local_authority'] == chosen_city]\n",
    "\n",
    "total_pubs = df_chosen_city.shape[0]\n",
    "total_pubs_all = df.shape[0]\n",
    "\n",
    "print(f\"Total number of pubs : {total_pubs_all}\")\n",
    "print(f\"Total number of pubs in {chosen_city}: {total_pubs}\")"
   ]
  }
 ],
 "metadata": {
  "kernelspec": {
   "display_name": ".venv",
   "language": "python",
   "name": "python3"
  },
  "language_info": {
   "codemirror_mode": {
    "name": "ipython",
    "version": 3
   },
   "file_extension": ".py",
   "mimetype": "text/x-python",
   "name": "python",
   "nbconvert_exporter": "python",
   "pygments_lexer": "ipython3",
   "version": "3.12.4"
  }
 },
 "nbformat": 4,
 "nbformat_minor": 2
}
